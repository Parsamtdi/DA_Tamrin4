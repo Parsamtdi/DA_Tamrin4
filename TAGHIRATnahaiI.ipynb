{
  "nbformat": 4,
  "nbformat_minor": 0,
  "metadata": {
    "colab": {
      "provenance": [],
      "gpuType": "T4"
    },
    "kernelspec": {
      "name": "python3",
      "display_name": "Python 3"
    },
    "language_info": {
      "name": "python"
    },
    "accelerator": "GPU"
  },
  "cells": [
    {
      "cell_type": "markdown",
      "source": [
        "# Install & Load Libraries"
      ],
      "metadata": {
        "id": "LEfu2ySUfule"
      }
    },
    {
      "cell_type": "code",
      "execution_count": 81,
      "metadata": {
        "colab": {
          "base_uri": "https://localhost:8080/"
        },
        "id": "6qWp3pBlRdjZ",
        "outputId": "3d4b02c9-6a48-4137-9e35-8cd15bed227e"
      },
      "outputs": [
        {
          "output_type": "stream",
          "name": "stdout",
          "text": [
            "fatal: destination path 'rapidsai-csp-utils' already exists and is not an empty directory.\n",
            "Installing RAPIDS remaining 25.04 libraries\n",
            "Using Python 3.11.13 environment at: /usr\n",
            "Audited 11 packages in 1.21s\n",
            "\n",
            "        ***********************************************************************\n",
            "        The pip install of RAPIDS is complete.\n",
            "\n",
            "        Please do not run any further installation from the conda based installation methods, as they may cause issues!\n",
            "\n",
            "        Please ensure that you're pulling from the git repo to remain updated with the latest working install scripts.\n",
            "\n",
            "        Troubleshooting:\n",
            "            - If there is an installation failure, please check back on RAPIDSAI owned templates/notebooks to see how to update your personal files.\n",
            "            - If an installation failure persists when using the latest script, please make an issue on https://github.com/rapidsai-community/rapidsai-csp-utils\n",
            "        ***********************************************************************\n",
            "        \n"
          ]
        }
      ],
      "source": [
        "!git clone https://github.com/rapidsai/rapidsai-csp-utils.git\n",
        "!python rapidsai-csp-utils/colab/pip-install.py"
      ]
    },
    {
      "cell_type": "markdown",
      "source": [
        "## Connect to GoogleDrive"
      ],
      "metadata": {
        "id": "CHjy-dGIf-nu"
      }
    },
    {
      "cell_type": "code",
      "source": [
        "\n",
        "from google.colab import drive\n",
        "drive.mount('/gdrive')"
      ],
      "metadata": {
        "colab": {
          "base_uri": "https://localhost:8080/"
        },
        "id": "4dWqlBxSTGaY",
        "outputId": "26a7a654-c060-48f0-d994-9ecabc4d4dd6"
      },
      "execution_count": 82,
      "outputs": [
        {
          "output_type": "stream",
          "name": "stdout",
          "text": [
            "Drive already mounted at /gdrive; to attempt to forcibly remount, call drive.mount(\"/gdrive\", force_remount=True).\n"
          ]
        }
      ]
    },
    {
      "cell_type": "markdown",
      "source": [
        "##Data Extraction and unzip"
      ],
      "metadata": {
        "id": "n-YEK176gQ27"
      }
    },
    {
      "cell_type": "code",
      "source": [
        "!pip install gdown\n",
        "import gdown\n",
        "\n",
        "url = \"https://drive.google.com/uc?id=1IOTGHBPt-0cI8KgHYlwHT62OeAPKpOBc\"\n",
        "\n",
        "gdown.download(url, \"myfile.gz\", quiet=False)"
      ],
      "metadata": {
        "colab": {
          "base_uri": "https://localhost:8080/",
          "height": 350
        },
        "id": "7BY8C42PUif3",
        "outputId": "157889fb-d32b-420b-b0a1-76447930ffd6"
      },
      "execution_count": 83,
      "outputs": [
        {
          "output_type": "stream",
          "name": "stdout",
          "text": [
            "Requirement already satisfied: gdown in /usr/local/lib/python3.11/dist-packages (5.2.0)\n",
            "Requirement already satisfied: beautifulsoup4 in /usr/local/lib/python3.11/dist-packages (from gdown) (4.13.4)\n",
            "Requirement already satisfied: filelock in /usr/local/lib/python3.11/dist-packages (from gdown) (3.18.0)\n",
            "Requirement already satisfied: requests[socks] in /usr/local/lib/python3.11/dist-packages (from gdown) (2.32.3)\n",
            "Requirement already satisfied: tqdm in /usr/local/lib/python3.11/dist-packages (from gdown) (4.67.1)\n",
            "Requirement already satisfied: soupsieve>1.2 in /usr/local/lib/python3.11/dist-packages (from beautifulsoup4->gdown) (2.7)\n",
            "Requirement already satisfied: typing-extensions>=4.0.0 in /usr/local/lib/python3.11/dist-packages (from beautifulsoup4->gdown) (4.14.1)\n",
            "Requirement already satisfied: charset-normalizer<4,>=2 in /usr/local/lib/python3.11/dist-packages (from requests[socks]->gdown) (3.4.3)\n",
            "Requirement already satisfied: idna<4,>=2.5 in /usr/local/lib/python3.11/dist-packages (from requests[socks]->gdown) (3.10)\n",
            "Requirement already satisfied: urllib3<3,>=1.21.1 in /usr/local/lib/python3.11/dist-packages (from requests[socks]->gdown) (2.5.0)\n",
            "Requirement already satisfied: certifi>=2017.4.17 in /usr/local/lib/python3.11/dist-packages (from requests[socks]->gdown) (2025.8.3)\n",
            "Requirement already satisfied: PySocks!=1.5.7,>=1.5.6 in /usr/local/lib/python3.11/dist-packages (from requests[socks]->gdown) (1.7.1)\n"
          ]
        },
        {
          "output_type": "stream",
          "name": "stderr",
          "text": [
            "Downloading...\n",
            "From (original): https://drive.google.com/uc?id=1IOTGHBPt-0cI8KgHYlwHT62OeAPKpOBc\n",
            "From (redirected): https://drive.google.com/uc?id=1IOTGHBPt-0cI8KgHYlwHT62OeAPKpOBc&confirm=t&uuid=173703c5-fdee-4b1e-990a-4101fd2f0dbe\n",
            "To: /content/myfile.gz\n",
            "100%|██████████| 1.63G/1.63G [00:20<00:00, 79.7MB/s]\n"
          ]
        },
        {
          "output_type": "execute_result",
          "data": {
            "text/plain": [
              "'myfile.gz'"
            ],
            "application/vnd.google.colaboratory.intrinsic+json": {
              "type": "string"
            }
          },
          "metadata": {},
          "execution_count": 83
        }
      ]
    },
    {
      "cell_type": "markdown",
      "source": [
        "## import libraries\n"
      ],
      "metadata": {
        "id": "PLEQ5Gcoky5D"
      }
    },
    {
      "cell_type": "code",
      "source": [
        "import gzip\n",
        "import shutil\n",
        "import dask_cudf\n",
        "import dask.dataframe as dd"
      ],
      "metadata": {
        "id": "7Xt-CEAugigR"
      },
      "execution_count": 84,
      "outputs": []
    },
    {
      "cell_type": "code",
      "source": [
        "#import os\n",
        "#os.rename(\"myfile.zip\", \"myfile.gz\")\n",
        "\n",
        "\n",
        "#in marhale moshkel saz bood baram chon man enbteda mikhastam file ro unzip konam vali nmidonestam ke file zip nist va format motefaveti dare\n",
        "\n",
        "with gzip.open(\"myfile.gz\", 'rb') as f_in:\n",
        "    with open(\"output_file.csv\", 'wb') as f_out:\n",
        "        shutil.copyfileobj(f_in, f_out)"
      ],
      "metadata": {
        "id": "IV9sV20aVRBm"
      },
      "execution_count": 85,
      "outputs": []
    },
    {
      "cell_type": "code",
      "source": [
        "#import dask.dataframe as dd\n",
        "#df = dd.read_csv(\"/content/output_folder/TrafficEvents_Aug16_Dec20_Publish.csv\")\n",
        "\n",
        "\n",
        "#khondan file unzip shode\n",
        "df = dask_cudf.read_csv(\"/content/output_file.csv\")\n",
        "\n",
        "\n",
        "df.info()\n"
      ],
      "metadata": {
        "colab": {
          "base_uri": "https://localhost:8080/"
        },
        "id": "hW4645mWYrfA",
        "outputId": "c88e8c3e-b31c-471a-8b16-161a0a811ac8"
      },
      "execution_count": 86,
      "outputs": [
        {
          "output_type": "stream",
          "name": "stdout",
          "text": [
            "<class 'dask_cudf._expr.collection.DataFrame'>\n",
            "Columns: 19 entries, TrafficEvents_Aug16_Dec20_Publish.csv\u0000\u0000\u0000\u0000\u0000\u0000\u0000\u0000\u0000\u0000\u0000\u0000\u0000\u0000\u0000\u0000\u0000\u0000\u0000\u0000\u0000\u0000\u0000\u0000\u0000\u0000\u0000\u0000\u0000\u0000\u0000\u0000\u0000\u0000\u0000\u0000\u0000\u0000\u0000\u0000\u0000\u0000\u0000\u0000\u0000\u0000\u0000\u0000\u0000\u0000\u0000\u0000\u0000\u0000\u0000\u0000\u0000\u0000\u0000\u0000\u0000\u0000\u00000000644\u00000056720\u00000007456\u000075560340504\u000014020065145\u0000016644\u0000 0\u0000\u0000\u0000\u0000\u0000\u0000\u0000\u0000\u0000\u0000\u0000\u0000\u0000\u0000\u0000\u0000\u0000\u0000\u0000\u0000\u0000\u0000\u0000\u0000\u0000\u0000\u0000\u0000\u0000\u0000\u0000\u0000\u0000\u0000\u0000\u0000\u0000\u0000\u0000\u0000\u0000\u0000\u0000\u0000\u0000\u0000\u0000\u0000\u0000\u0000\u0000\u0000\u0000\u0000\u0000\u0000\u0000\u0000\u0000\u0000\u0000\u0000\u0000\u0000\u0000\u0000\u0000\u0000\u0000\u0000\u0000\u0000\u0000\u0000\u0000\u0000\u0000\u0000\u0000\u0000\u0000\u0000\u0000\u0000\u0000\u0000\u0000\u0000\u0000\u0000\u0000\u0000\u0000\u0000\u0000\u0000\u0000\u0000\u0000\u0000ustar  \u0000osu9965\u0000\u0000\u0000\u0000\u0000\u0000\u0000\u0000\u0000\u0000\u0000\u0000\u0000\u0000\u0000\u0000\u0000\u0000\u0000\u0000\u0000\u0000\u0000\u0000\u0000PAS0536\u0000\u0000\u0000\u0000\u0000\u0000\u0000\u0000\u0000\u0000\u0000\u0000\u0000\u0000\u0000\u0000\u0000\u0000\u0000\u0000\u0000\u0000\u0000\u0000\u0000\u0000\u0000\u0000\u0000\u0000\u0000\u0000\u0000\u0000\u0000\u0000\u0000\u0000\u0000\u0000\u0000\u0000\u0000\u0000\u0000\u0000\u0000\u0000\u0000\u0000\u0000\u0000\u0000\u0000\u0000\u0000\u0000\u0000\u0000\u0000\u0000\u0000\u0000\u0000\u0000\u0000\u0000\u0000\u0000\u0000\u0000\u0000\u0000\u0000\u0000\u0000\u0000\u0000\u0000\u0000\u0000\u0000\u0000\u0000\u0000\u0000\u0000\u0000\u0000\u0000\u0000\u0000\u0000\u0000\u0000\u0000\u0000\u0000\u0000\u0000\u0000\u0000\u0000\u0000\u0000\u0000\u0000\u0000\u0000\u0000\u0000\u0000\u0000\u0000\u0000\u0000\u0000\u0000\u0000\u0000\u0000\u0000\u0000\u0000\u0000\u0000\u0000\u0000\u0000\u0000\u0000\u0000\u0000\u0000\u0000\u0000\u0000\u0000\u0000\u0000\u0000\u0000\u0000\u0000\u0000\u0000\u0000\u0000\u0000\u0000\u0000\u0000\u0000\u0000\u0000\u0000\u0000\u0000\u0000\u0000\u0000\u0000\u0000\u0000\u0000\u0000\u0000\u0000\u0000\u0000\u0000\u0000\u0000\u0000\u0000\u0000\u0000\u0000\u0000\u0000\u0000\u0000\u0000\u0000\u0000\u0000\u0000\u0000\u0000\u0000\u0000\u0000\u0000\u0000\u0000\u0000\u0000\u0000\u0000\u0000\u0000\u0000\u0000\u0000\u0000\u0000\u0000\u0000EventId to ZipCode\n",
            "dtypes: object(12), float64(3), int64(4)"
          ]
        }
      ]
    },
    {
      "cell_type": "markdown",
      "source": [
        "## Sampling"
      ],
      "metadata": {
        "id": "Sbe3Y6JP464-"
      }
    },
    {
      "cell_type": "code",
      "source": [
        "\n",
        "#inja omadam baraye 500 dade tasadofi ye nemone bardari kardam va excel sakhtam ke betonam ba baazi az data ha kar konam\n",
        "#albate to cell baadi ba nmooe haye bishtar kar kardam ta ba etminan bishtar be data cleaning beshe pardakht\n",
        "total_rows = len(df)\n",
        "frac = 500 / total_rows\n",
        "\n",
        "\n",
        "sample_df = df.sample(frac=frac, random_state=42)\n",
        "sample_df.compute().to_csv(\"/content/sample.csv\", index=False)\n",
        "\n",
        "\n"
      ],
      "metadata": {
        "id": "svqrH9LaEwma"
      },
      "execution_count": 87,
      "outputs": []
    },
    {
      "cell_type": "code",
      "source": [
        "\n",
        "#inja omadam baraye 5000 dade tasadofi ye nemone bardari kardam va excel sakhtam ke betonam ba baazi az data ha kar konam\n",
        "frac = 5000 / len(df)\n",
        "sample_df = df.sample(frac=frac, random_state=42)\n",
        "sample_df.compute().to_csv(\"/content/5000accicent_sample.csv\", index=False)"
      ],
      "metadata": {
        "id": "hEa5uvmGg1hW"
      },
      "execution_count": 88,
      "outputs": []
    },
    {
      "cell_type": "markdown",
      "source": [],
      "metadata": {
        "id": "IoinHdr-JeKU"
      }
    },
    {
      "cell_type": "markdown",
      "source": [
        "### info"
      ],
      "metadata": {
        "id": "QP__0f7Dg7dU"
      }
    },
    {
      "cell_type": "code",
      "source": [
        "\n",
        "#in miad 5 ta satr aval ro be onvan nmone be ma neshon mide\n",
        "print(\"data samples\")\n",
        "print(df.head())\n",
        "print(\"\\n columns:\")\n",
        "print(df.dtypes)"
      ],
      "metadata": {
        "colab": {
          "base_uri": "https://localhost:8080/"
        },
        "id": "wEIpNP1HIYBW",
        "outputId": "97e0fab7-5afb-4374-c485-e7b7f6967d07"
      },
      "execution_count": 89,
      "outputs": [
        {
          "output_type": "stream",
          "name": "stdout",
          "text": [
            "data samples\n",
            "  TrafficEvents_Aug16_Dec20_Publish.csv\u0000\u0000\u0000\u0000\u0000\u0000\u0000\u0000\u0000\u0000\u0000\u0000\u0000\u0000\u0000\u0000\u0000\u0000\u0000\u0000\u0000\u0000\u0000\u0000\u0000\u0000\u0000\u0000\u0000\u0000\u0000\u0000\u0000\u0000\u0000\u0000\u0000\u0000\u0000\u0000\u0000\u0000\u0000\u0000\u0000\u0000\u0000\u0000\u0000\u0000\u0000\u0000\u0000\u0000\u0000\u0000\u0000\u0000\u0000\u0000\u0000\u0000\u00000000644\u00000056720\u00000007456\u000075560340504\u000014020065145\u0000016644\u0000 0\u0000\u0000\u0000\u0000\u0000\u0000\u0000\u0000\u0000\u0000\u0000\u0000\u0000\u0000\u0000\u0000\u0000\u0000\u0000\u0000\u0000\u0000\u0000\u0000\u0000\u0000\u0000\u0000\u0000\u0000\u0000\u0000\u0000\u0000\u0000\u0000\u0000\u0000\u0000\u0000\u0000\u0000\u0000\u0000\u0000\u0000\u0000\u0000\u0000\u0000\u0000\u0000\u0000\u0000\u0000\u0000\u0000\u0000\u0000\u0000\u0000\u0000\u0000\u0000\u0000\u0000\u0000\u0000\u0000\u0000\u0000\u0000\u0000\u0000\u0000\u0000\u0000\u0000\u0000\u0000\u0000\u0000\u0000\u0000\u0000\u0000\u0000\u0000\u0000\u0000\u0000\u0000\u0000\u0000\u0000\u0000\u0000\u0000\u0000\u0000ustar  \u0000osu9965\u0000\u0000\u0000\u0000\u0000\u0000\u0000\u0000\u0000\u0000\u0000\u0000\u0000\u0000\u0000\u0000\u0000\u0000\u0000\u0000\u0000\u0000\u0000\u0000\u0000PAS0536\u0000\u0000\u0000\u0000\u0000\u0000\u0000\u0000\u0000\u0000\u0000\u0000\u0000\u0000\u0000\u0000\u0000\u0000\u0000\u0000\u0000\u0000\u0000\u0000\u0000\u0000\u0000\u0000\u0000\u0000\u0000\u0000\u0000\u0000\u0000\u0000\u0000\u0000\u0000\u0000\u0000\u0000\u0000\u0000\u0000\u0000\u0000\u0000\u0000\u0000\u0000\u0000\u0000\u0000\u0000\u0000\u0000\u0000\u0000\u0000\u0000\u0000\u0000\u0000\u0000\u0000\u0000\u0000\u0000\u0000\u0000\u0000\u0000\u0000\u0000\u0000\u0000\u0000\u0000\u0000\u0000\u0000\u0000\u0000\u0000\u0000\u0000\u0000\u0000\u0000\u0000\u0000\u0000\u0000\u0000\u0000\u0000\u0000\u0000\u0000\u0000\u0000\u0000\u0000\u0000\u0000\u0000\u0000\u0000\u0000\u0000\u0000\u0000\u0000\u0000\u0000\u0000\u0000\u0000\u0000\u0000\u0000\u0000\u0000\u0000\u0000\u0000\u0000\u0000\u0000\u0000\u0000\u0000\u0000\u0000\u0000\u0000\u0000\u0000\u0000\u0000\u0000\u0000\u0000\u0000\u0000\u0000\u0000\u0000\u0000\u0000\u0000\u0000\u0000\u0000\u0000\u0000\u0000\u0000\u0000\u0000\u0000\u0000\u0000\u0000\u0000\u0000\u0000\u0000\u0000\u0000\u0000\u0000\u0000\u0000\u0000\u0000\u0000\u0000\u0000\u0000\u0000\u0000\u0000\u0000\u0000\u0000\u0000\u0000\u0000\u0000\u0000\u0000\u0000\u0000\u0000\u0000\u0000\u0000\u0000\u0000\u0000\u0000\u0000\u0000\u0000\u0000\u0000EventId  \\\n",
            "0                                            T-38768                                                                                                                                                                                                                                                                                                                                                                                                                                                                                        \n",
            "1                                            T-38772                                                                                                                                                                                                                                                                                                                                                                                                                                                                                        \n",
            "2                                            T-38775                                                                                                                                                                                                                                                                                                                                                                                                                                                                                        \n",
            "3                                            T-38777                                                                                                                                                                                                                                                                                                                                                                                                                                                                                        \n",
            "4                                            T-38781                                                                                                                                                                                                                                                                                                                                                                                                                                                                                        \n",
            "\n",
            "         Type  Severity  TMC  \\\n",
            "0  Congestion         2   73   \n",
            "1  Congestion         2   72   \n",
            "2  Congestion         2   72   \n",
            "3  Congestion         1   75   \n",
            "4  Congestion         2   75   \n",
            "\n",
            "                                         Description       StartTime(UTC)  \\\n",
            "0  Severe delays of 18 minutes on US-101 Redwood ...  2016-08-01 00:03:00   \n",
            "1  Delays of eight minutes on CA-92 San Mateo Rd ...  2016-08-01 00:07:00   \n",
            "2  Severe delays of 20 minutes and delays increas...  2016-08-01 00:00:00   \n",
            "3  Delays of two minutes on Valley Fwy Southbound...  2016-08-01 00:08:00   \n",
            "4  Delays of five minutes on CA-37 Sears Point Rd...  2016-08-01 00:13:00   \n",
            "\n",
            "          EndTime(UTC)    TimeZone  LocationLat  LocationLng  Distance(mi)  \\\n",
            "0  2016-08-01 00:14:28  US/Pacific    38.214657  -122.602669           0.0   \n",
            "1  2016-08-01 00:18:44  US/Pacific    37.477329  -122.415703           0.0   \n",
            "2  2016-08-01 00:18:44  US/Pacific    36.985863  -121.981026           0.0   \n",
            "3  2016-08-01 00:19:44  US/Pacific    37.105865  -121.613411           0.0   \n",
            "4  2016-08-01 00:27:26  US/Pacific    38.150387  -122.450569           0.0   \n",
            "\n",
            "  AirportCode Number           Street Side           City       County State  \\\n",
            "0        KO69   <NA>    Redwood Hwy S    R       Petaluma       Sonoma    CA   \n",
            "1        KHAF  12685     San Mateo Rd    L  Half Moon Bay    San Mateo    CA   \n",
            "2        KWVI   <NA>  State Highway 1    R     Santa Cruz   Santa Cruz    CA   \n",
            "3        KE16   <NA>   S Valley Fwy S    R     San Martin  Santa Clara    CA   \n",
            "4        KO69   <NA>   Sears Point Rd    R       Petaluma       Sonoma    CA   \n",
            "\n",
            "   ZipCode  \n",
            "0    94952  \n",
            "1    94019  \n",
            "2    95062  \n",
            "3    95046  \n",
            "4    94954  \n",
            "\n",
            " columns:\n",
            "TrafficEvents_Aug16_Dec20_Publish.csv\u0000\u0000\u0000\u0000\u0000\u0000\u0000\u0000\u0000\u0000\u0000\u0000\u0000\u0000\u0000\u0000\u0000\u0000\u0000\u0000\u0000\u0000\u0000\u0000\u0000\u0000\u0000\u0000\u0000\u0000\u0000\u0000\u0000\u0000\u0000\u0000\u0000\u0000\u0000\u0000\u0000\u0000\u0000\u0000\u0000\u0000\u0000\u0000\u0000\u0000\u0000\u0000\u0000\u0000\u0000\u0000\u0000\u0000\u0000\u0000\u0000\u0000\u00000000644\u00000056720\u00000007456\u000075560340504\u000014020065145\u0000016644\u0000 0\u0000\u0000\u0000\u0000\u0000\u0000\u0000\u0000\u0000\u0000\u0000\u0000\u0000\u0000\u0000\u0000\u0000\u0000\u0000\u0000\u0000\u0000\u0000\u0000\u0000\u0000\u0000\u0000\u0000\u0000\u0000\u0000\u0000\u0000\u0000\u0000\u0000\u0000\u0000\u0000\u0000\u0000\u0000\u0000\u0000\u0000\u0000\u0000\u0000\u0000\u0000\u0000\u0000\u0000\u0000\u0000\u0000\u0000\u0000\u0000\u0000\u0000\u0000\u0000\u0000\u0000\u0000\u0000\u0000\u0000\u0000\u0000\u0000\u0000\u0000\u0000\u0000\u0000\u0000\u0000\u0000\u0000\u0000\u0000\u0000\u0000\u0000\u0000\u0000\u0000\u0000\u0000\u0000\u0000\u0000\u0000\u0000\u0000\u0000\u0000ustar  \u0000osu9965\u0000\u0000\u0000\u0000\u0000\u0000\u0000\u0000\u0000\u0000\u0000\u0000\u0000\u0000\u0000\u0000\u0000\u0000\u0000\u0000\u0000\u0000\u0000\u0000\u0000PAS0536\u0000\u0000\u0000\u0000\u0000\u0000\u0000\u0000\u0000\u0000\u0000\u0000\u0000\u0000\u0000\u0000\u0000\u0000\u0000\u0000\u0000\u0000\u0000\u0000\u0000\u0000\u0000\u0000\u0000\u0000\u0000\u0000\u0000\u0000\u0000\u0000\u0000\u0000\u0000\u0000\u0000\u0000\u0000\u0000\u0000\u0000\u0000\u0000\u0000\u0000\u0000\u0000\u0000\u0000\u0000\u0000\u0000\u0000\u0000\u0000\u0000\u0000\u0000\u0000\u0000\u0000\u0000\u0000\u0000\u0000\u0000\u0000\u0000\u0000\u0000\u0000\u0000\u0000\u0000\u0000\u0000\u0000\u0000\u0000\u0000\u0000\u0000\u0000\u0000\u0000\u0000\u0000\u0000\u0000\u0000\u0000\u0000\u0000\u0000\u0000\u0000\u0000\u0000\u0000\u0000\u0000\u0000\u0000\u0000\u0000\u0000\u0000\u0000\u0000\u0000\u0000\u0000\u0000\u0000\u0000\u0000\u0000\u0000\u0000\u0000\u0000\u0000\u0000\u0000\u0000\u0000\u0000\u0000\u0000\u0000\u0000\u0000\u0000\u0000\u0000\u0000\u0000\u0000\u0000\u0000\u0000\u0000\u0000\u0000\u0000\u0000\u0000\u0000\u0000\u0000\u0000\u0000\u0000\u0000\u0000\u0000\u0000\u0000\u0000\u0000\u0000\u0000\u0000\u0000\u0000\u0000\u0000\u0000\u0000\u0000\u0000\u0000\u0000\u0000\u0000\u0000\u0000\u0000\u0000\u0000\u0000\u0000\u0000\u0000\u0000\u0000\u0000\u0000\u0000\u0000\u0000\u0000\u0000\u0000\u0000\u0000\u0000\u0000\u0000\u0000\u0000\u0000\u0000EventId     object\n",
            "Type                                                                                                                                                                                                                                                                                                                                                                                                                                                                                                                                        object\n",
            "Severity                                                                                                                                                                                                                                                                                                                                                                                                                                                                                                                                     int64\n",
            "TMC                                                                                                                                                                                                                                                                                                                                                                                                                                                                                                                                          int64\n",
            "Description                                                                                                                                                                                                                                                                                                                                                                                                                                                                                                                                 object\n",
            "StartTime(UTC)                                                                                                                                                                                                                                                                                                                                                                                                                                                                                                                              object\n",
            "EndTime(UTC)                                                                                                                                                                                                                                                                                                                                                                                                                                                                                                                                object\n",
            "TimeZone                                                                                                                                                                                                                                                                                                                                                                                                                                                                                                                                    object\n",
            "LocationLat                                                                                                                                                                                                                                                                                                                                                                                                                                                                                                                                float64\n",
            "LocationLng                                                                                                                                                                                                                                                                                                                                                                                                                                                                                                                                float64\n",
            "Distance(mi)                                                                                                                                                                                                                                                                                                                                                                                                                                                                                                                               float64\n",
            "AirportCode                                                                                                                                                                                                                                                                                                                                                                                                                                                                                                                                 object\n",
            "Number                                                                                                                                                                                                                                                                                                                                                                                                                                                                                                                                       int64\n",
            "Street                                                                                                                                                                                                                                                                                                                                                                                                                                                                                                                                      object\n",
            "Side                                                                                                                                                                                                                                                                                                                                                                                                                                                                                                                                        object\n",
            "City                                                                                                                                                                                                                                                                                                                                                                                                                                                                                                                                        object\n",
            "County                                                                                                                                                                                                                                                                                                                                                                                                                                                                                                                                      object\n",
            "State                                                                                                                                                                                                                                                                                                                                                                                                                                                                                                                                       object\n",
            "ZipCode                                                                                                                                                                                                                                                                                                                                                                                                                                                                                                                                      int64\n",
            "dtype: object\n"
          ]
        }
      ]
    },
    {
      "cell_type": "code",
      "source": [
        "#hajm har soton ro mige\n",
        "print(df.memory_usage(deep=True).compute())\n",
        "\n",
        "# be elat inke dask_cudf df.info() mofidi nadasht be in sorat hajm dade hamo mididam\n",
        "total_memory = df.memory_usage(deep=True).sum().compute()\n",
        "print(f\" total memory: {total_memory / (1024 ** 3):.2f}  Gb\")"
      ],
      "metadata": {
        "colab": {
          "base_uri": "https://localhost:8080/"
        },
        "id": "GDx4toCd0NAa",
        "outputId": "ee757479-d1d3-40a1-901a-d3a620bb7dc9"
      },
      "execution_count": 90,
      "outputs": [
        {
          "output_type": "stream",
          "name": "stdout",
          "text": [
            "Index                                                                                                                                                                                                                                                                                                                                                                                                                                                                                                                                               0\n",
            "TrafficEvents_Aug16_Dec20_Publish.csv\u0000\u0000\u0000\u0000\u0000\u0000\u0000\u0000\u0000\u0000\u0000\u0000\u0000\u0000\u0000\u0000\u0000\u0000\u0000\u0000\u0000\u0000\u0000\u0000\u0000\u0000\u0000\u0000\u0000\u0000\u0000\u0000\u0000\u0000\u0000\u0000\u0000\u0000\u0000\u0000\u0000\u0000\u0000\u0000\u0000\u0000\u0000\u0000\u0000\u0000\u0000\u0000\u0000\u0000\u0000\u0000\u0000\u0000\u0000\u0000\u0000\u0000\u00000000644\u00000056720\u00000007456\u000075560340504\u000014020065145\u0000016644\u0000 0\u0000\u0000\u0000\u0000\u0000\u0000\u0000\u0000\u0000\u0000\u0000\u0000\u0000\u0000\u0000\u0000\u0000\u0000\u0000\u0000\u0000\u0000\u0000\u0000\u0000\u0000\u0000\u0000\u0000\u0000\u0000\u0000\u0000\u0000\u0000\u0000\u0000\u0000\u0000\u0000\u0000\u0000\u0000\u0000\u0000\u0000\u0000\u0000\u0000\u0000\u0000\u0000\u0000\u0000\u0000\u0000\u0000\u0000\u0000\u0000\u0000\u0000\u0000\u0000\u0000\u0000\u0000\u0000\u0000\u0000\u0000\u0000\u0000\u0000\u0000\u0000\u0000\u0000\u0000\u0000\u0000\u0000\u0000\u0000\u0000\u0000\u0000\u0000\u0000\u0000\u0000\u0000\u0000\u0000\u0000\u0000\u0000\u0000\u0000\u0000ustar  \u0000osu9965\u0000\u0000\u0000\u0000\u0000\u0000\u0000\u0000\u0000\u0000\u0000\u0000\u0000\u0000\u0000\u0000\u0000\u0000\u0000\u0000\u0000\u0000\u0000\u0000\u0000PAS0536\u0000\u0000\u0000\u0000\u0000\u0000\u0000\u0000\u0000\u0000\u0000\u0000\u0000\u0000\u0000\u0000\u0000\u0000\u0000\u0000\u0000\u0000\u0000\u0000\u0000\u0000\u0000\u0000\u0000\u0000\u0000\u0000\u0000\u0000\u0000\u0000\u0000\u0000\u0000\u0000\u0000\u0000\u0000\u0000\u0000\u0000\u0000\u0000\u0000\u0000\u0000\u0000\u0000\u0000\u0000\u0000\u0000\u0000\u0000\u0000\u0000\u0000\u0000\u0000\u0000\u0000\u0000\u0000\u0000\u0000\u0000\u0000\u0000\u0000\u0000\u0000\u0000\u0000\u0000\u0000\u0000\u0000\u0000\u0000\u0000\u0000\u0000\u0000\u0000\u0000\u0000\u0000\u0000\u0000\u0000\u0000\u0000\u0000\u0000\u0000\u0000\u0000\u0000\u0000\u0000\u0000\u0000\u0000\u0000\u0000\u0000\u0000\u0000\u0000\u0000\u0000\u0000\u0000\u0000\u0000\u0000\u0000\u0000\u0000\u0000\u0000\u0000\u0000\u0000\u0000\u0000\u0000\u0000\u0000\u0000\u0000\u0000\u0000\u0000\u0000\u0000\u0000\u0000\u0000\u0000\u0000\u0000\u0000\u0000\u0000\u0000\u0000\u0000\u0000\u0000\u0000\u0000\u0000\u0000\u0000\u0000\u0000\u0000\u0000\u0000\u0000\u0000\u0000\u0000\u0000\u0000\u0000\u0000\u0000\u0000\u0000\u0000\u0000\u0000\u0000\u0000\u0000\u0000\u0000\u0000\u0000\u0000\u0000\u0000\u0000\u0000\u0000\u0000\u0000\u0000\u0000\u0000\u0000\u0000\u0000\u0000\u0000\u0000\u0000\u0000\u0000\u0000\u0000EventId     428861348\n",
            "Type                                                                                                                                                                                                                                                                                                                                                                                                                                                                                                                                        443697916\n",
            "Severity                                                                                                                                                                                                                                                                                                                                                                                                                                                                                                                                    250954624\n",
            "TMC                                                                                                                                                                                                                                                                                                                                                                                                                                                                                                                                         250954624\n",
            "Description                                                                                                                                                                                                                                                                                                                                                                                                                                                                                                                                3357317942\n",
            "StartTime(UTC)                                                                                                                                                                                                                                                                                                                                                                                                                                                                                                                              721288369\n",
            "EndTime(UTC)                                                                                                                                                                                                                                                                                                                                                                                                                                                                                                                                721288369\n",
            "TimeZone                                                                                                                                                                                                                                                                                                                                                                                                                                                                                                                                    444511979\n",
            "LocationLat                                                                                                                                                                                                                                                                                                                                                                                                                                                                                                                                 250954624\n",
            "LocationLng                                                                                                                                                                                                                                                                                                                                                                                                                                                                                                                                 250954624\n",
            "Distance(mi)                                                                                                                                                                                                                                                                                                                                                                                                                                                                                                                                250954624\n",
            "AirportCode                                                                                                                                                                                                                                                                                                                                                                                                                                                                                                                                 254540484\n",
            "Number                                                                                                                                                                                                                                                                                                                                                                                                                                                                                                                                      254764928\n",
            "Street                                                                                                                                                                                                                                                                                                                                                                                                                                                                                                                                      478780751\n",
            "Side                                                                                                                                                                                                                                                                                                                                                                                                                                                                                                                                        156888019\n",
            "City                                                                                                                                                                                                                                                                                                                                                                                                                                                                                                                                        405585588\n",
            "County                                                                                                                                                                                                                                                                                                                                                                                                                                                                                                                                      370691533\n",
            "State                                                                                                                                                                                                                                                                                                                                                                                                                                                                                                                                       188371400\n",
            "ZipCode                                                                                                                                                                                                                                                                                                                                                                                                                                                                                                                                     254764928\n",
            "dtype: int64\n",
            " total memory: 9.07  Gb\n"
          ]
        }
      ]
    },
    {
      "cell_type": "code",
      "source": [
        "df =dask_cudf.read_csv(\"/content/output_file.csv\")\n",
        "# df.info()\n",
        "#inja check kardam bbinam kodom soton ha nan bishtari darand va gheyr ghabel masraf mishan be elat data besyar kam\n",
        "df.isna().sum().compute()"
      ],
      "metadata": {
        "colab": {
          "base_uri": "https://localhost:8080/"
        },
        "id": "G_P5xI844aIn",
        "outputId": "605eb8ff-a955-46bb-b76e-a6b88ba4190f"
      },
      "execution_count": 91,
      "outputs": [
        {
          "output_type": "execute_result",
          "data": {
            "text/plain": [
              "TrafficEvents_Aug16_Dec20_Publish.csv\u0000\u0000\u0000\u0000\u0000\u0000\u0000\u0000\u0000\u0000\u0000\u0000\u0000\u0000\u0000\u0000\u0000\u0000\u0000\u0000\u0000\u0000\u0000\u0000\u0000\u0000\u0000\u0000\u0000\u0000\u0000\u0000\u0000\u0000\u0000\u0000\u0000\u0000\u0000\u0000\u0000\u0000\u0000\u0000\u0000\u0000\u0000\u0000\u0000\u0000\u0000\u0000\u0000\u0000\u0000\u0000\u0000\u0000\u0000\u0000\u0000\u0000\u00000000644\u00000056720\u00000007456\u000075560340504\u000014020065145\u0000016644\u0000 0\u0000\u0000\u0000\u0000\u0000\u0000\u0000\u0000\u0000\u0000\u0000\u0000\u0000\u0000\u0000\u0000\u0000\u0000\u0000\u0000\u0000\u0000\u0000\u0000\u0000\u0000\u0000\u0000\u0000\u0000\u0000\u0000\u0000\u0000\u0000\u0000\u0000\u0000\u0000\u0000\u0000\u0000\u0000\u0000\u0000\u0000\u0000\u0000\u0000\u0000\u0000\u0000\u0000\u0000\u0000\u0000\u0000\u0000\u0000\u0000\u0000\u0000\u0000\u0000\u0000\u0000\u0000\u0000\u0000\u0000\u0000\u0000\u0000\u0000\u0000\u0000\u0000\u0000\u0000\u0000\u0000\u0000\u0000\u0000\u0000\u0000\u0000\u0000\u0000\u0000\u0000\u0000\u0000\u0000\u0000\u0000\u0000\u0000\u0000\u0000ustar  \u0000osu9965\u0000\u0000\u0000\u0000\u0000\u0000\u0000\u0000\u0000\u0000\u0000\u0000\u0000\u0000\u0000\u0000\u0000\u0000\u0000\u0000\u0000\u0000\u0000\u0000\u0000PAS0536\u0000\u0000\u0000\u0000\u0000\u0000\u0000\u0000\u0000\u0000\u0000\u0000\u0000\u0000\u0000\u0000\u0000\u0000\u0000\u0000\u0000\u0000\u0000\u0000\u0000\u0000\u0000\u0000\u0000\u0000\u0000\u0000\u0000\u0000\u0000\u0000\u0000\u0000\u0000\u0000\u0000\u0000\u0000\u0000\u0000\u0000\u0000\u0000\u0000\u0000\u0000\u0000\u0000\u0000\u0000\u0000\u0000\u0000\u0000\u0000\u0000\u0000\u0000\u0000\u0000\u0000\u0000\u0000\u0000\u0000\u0000\u0000\u0000\u0000\u0000\u0000\u0000\u0000\u0000\u0000\u0000\u0000\u0000\u0000\u0000\u0000\u0000\u0000\u0000\u0000\u0000\u0000\u0000\u0000\u0000\u0000\u0000\u0000\u0000\u0000\u0000\u0000\u0000\u0000\u0000\u0000\u0000\u0000\u0000\u0000\u0000\u0000\u0000\u0000\u0000\u0000\u0000\u0000\u0000\u0000\u0000\u0000\u0000\u0000\u0000\u0000\u0000\u0000\u0000\u0000\u0000\u0000\u0000\u0000\u0000\u0000\u0000\u0000\u0000\u0000\u0000\u0000\u0000\u0000\u0000\u0000\u0000\u0000\u0000\u0000\u0000\u0000\u0000\u0000\u0000\u0000\u0000\u0000\u0000\u0000\u0000\u0000\u0000\u0000\u0000\u0000\u0000\u0000\u0000\u0000\u0000\u0000\u0000\u0000\u0000\u0000\u0000\u0000\u0000\u0000\u0000\u0000\u0000\u0000\u0000\u0000\u0000\u0000\u0000\u0000\u0000\u0000\u0000\u0000\u0000\u0000\u0000\u0000\u0000\u0000\u0000\u0000\u0000\u0000\u0000\u0000\u0000\u0000EventId           0\n",
              "Type                                                                                                                                                                                                                                                                                                                                                                                                                                                                                                                                              1\n",
              "Severity                                                                                                                                                                                                                                                                                                                                                                                                                                                                                                                                          1\n",
              "TMC                                                                                                                                                                                                                                                                                                                                                                                                                                                                                                                                               1\n",
              "Description                                                                                                                                                                                                                                                                                                                                                                                                                                                                                                                                       6\n",
              "StartTime(UTC)                                                                                                                                                                                                                                                                                                                                                                                                                                                                                                                                    1\n",
              "EndTime(UTC)                                                                                                                                                                                                                                                                                                                                                                                                                                                                                                                                      1\n",
              "TimeZone                                                                                                                                                                                                                                                                                                                                                                                                                                                                                                                                      32301\n",
              "LocationLat                                                                                                                                                                                                                                                                                                                                                                                                                                                                                                                                       1\n",
              "LocationLng                                                                                                                                                                                                                                                                                                                                                                                                                                                                                                                                       1\n",
              "Distance(mi)                                                                                                                                                                                                                                                                                                                                                                                                                                                                                                                                      1\n",
              "AirportCode                                                                                                                                                                                                                                                                                                                                                                                                                                                                                                                                   56142\n",
              "Number                                                                                                                                                                                                                                                                                                                                                                                                                                                                                                                                     17470384\n",
              "Street                                                                                                                                                                                                                                                                                                                                                                                                                                                                                                                                           17\n",
              "Side                                                                                                                                                                                                                                                                                                                                                                                                                                                                                                                                              1\n",
              "City                                                                                                                                                                                                                                                                                                                                                                                                                                                                                                                                           1670\n",
              "County                                                                                                                                                                                                                                                                                                                                                                                                                                                                                                                                            1\n",
              "State                                                                                                                                                                                                                                                                                                                                                                                                                                                                                                                                             2\n",
              "ZipCode                                                                                                                                                                                                                                                                                                                                                                                                                                                                                                                                       24101\n",
              "dtype: int64"
            ]
          },
          "metadata": {},
          "execution_count": 91
        }
      ]
    },
    {
      "cell_type": "markdown",
      "source": [
        "# Data Cleaning"
      ],
      "metadata": {
        "id": "y1KGV0IuhJI5"
      }
    },
    {
      "cell_type": "code",
      "source": [
        "#dar in bakhsh man soton description ro pak kardam chon etelaat mofidi be ma nmidad\n",
        "df = df.drop(columns=[\"Description\",\"Number\"])\n"
      ],
      "metadata": {
        "id": "Q0_c-Gd75L2Z"
      },
      "execution_count": 92,
      "outputs": []
    },
    {
      "cell_type": "code",
      "source": [
        "print(\"\\n columns :\")\n",
        "print(df.dtypes)\n",
        "total_memory = df.memory_usage(deep=True).sum().compute()\n",
        "print(f\" total memory: {total_memory / (1024 ** 3):.2f}  Gb\")"
      ],
      "metadata": {
        "colab": {
          "base_uri": "https://localhost:8080/"
        },
        "id": "YxQZs7lz9FNE",
        "outputId": "583659e7-501e-4bed-82ac-89d8ae0253b8"
      },
      "execution_count": 93,
      "outputs": [
        {
          "output_type": "stream",
          "name": "stdout",
          "text": [
            "\n",
            " columns :\n",
            "TrafficEvents_Aug16_Dec20_Publish.csv\u0000\u0000\u0000\u0000\u0000\u0000\u0000\u0000\u0000\u0000\u0000\u0000\u0000\u0000\u0000\u0000\u0000\u0000\u0000\u0000\u0000\u0000\u0000\u0000\u0000\u0000\u0000\u0000\u0000\u0000\u0000\u0000\u0000\u0000\u0000\u0000\u0000\u0000\u0000\u0000\u0000\u0000\u0000\u0000\u0000\u0000\u0000\u0000\u0000\u0000\u0000\u0000\u0000\u0000\u0000\u0000\u0000\u0000\u0000\u0000\u0000\u0000\u00000000644\u00000056720\u00000007456\u000075560340504\u000014020065145\u0000016644\u0000 0\u0000\u0000\u0000\u0000\u0000\u0000\u0000\u0000\u0000\u0000\u0000\u0000\u0000\u0000\u0000\u0000\u0000\u0000\u0000\u0000\u0000\u0000\u0000\u0000\u0000\u0000\u0000\u0000\u0000\u0000\u0000\u0000\u0000\u0000\u0000\u0000\u0000\u0000\u0000\u0000\u0000\u0000\u0000\u0000\u0000\u0000\u0000\u0000\u0000\u0000\u0000\u0000\u0000\u0000\u0000\u0000\u0000\u0000\u0000\u0000\u0000\u0000\u0000\u0000\u0000\u0000\u0000\u0000\u0000\u0000\u0000\u0000\u0000\u0000\u0000\u0000\u0000\u0000\u0000\u0000\u0000\u0000\u0000\u0000\u0000\u0000\u0000\u0000\u0000\u0000\u0000\u0000\u0000\u0000\u0000\u0000\u0000\u0000\u0000\u0000ustar  \u0000osu9965\u0000\u0000\u0000\u0000\u0000\u0000\u0000\u0000\u0000\u0000\u0000\u0000\u0000\u0000\u0000\u0000\u0000\u0000\u0000\u0000\u0000\u0000\u0000\u0000\u0000PAS0536\u0000\u0000\u0000\u0000\u0000\u0000\u0000\u0000\u0000\u0000\u0000\u0000\u0000\u0000\u0000\u0000\u0000\u0000\u0000\u0000\u0000\u0000\u0000\u0000\u0000\u0000\u0000\u0000\u0000\u0000\u0000\u0000\u0000\u0000\u0000\u0000\u0000\u0000\u0000\u0000\u0000\u0000\u0000\u0000\u0000\u0000\u0000\u0000\u0000\u0000\u0000\u0000\u0000\u0000\u0000\u0000\u0000\u0000\u0000\u0000\u0000\u0000\u0000\u0000\u0000\u0000\u0000\u0000\u0000\u0000\u0000\u0000\u0000\u0000\u0000\u0000\u0000\u0000\u0000\u0000\u0000\u0000\u0000\u0000\u0000\u0000\u0000\u0000\u0000\u0000\u0000\u0000\u0000\u0000\u0000\u0000\u0000\u0000\u0000\u0000\u0000\u0000\u0000\u0000\u0000\u0000\u0000\u0000\u0000\u0000\u0000\u0000\u0000\u0000\u0000\u0000\u0000\u0000\u0000\u0000\u0000\u0000\u0000\u0000\u0000\u0000\u0000\u0000\u0000\u0000\u0000\u0000\u0000\u0000\u0000\u0000\u0000\u0000\u0000\u0000\u0000\u0000\u0000\u0000\u0000\u0000\u0000\u0000\u0000\u0000\u0000\u0000\u0000\u0000\u0000\u0000\u0000\u0000\u0000\u0000\u0000\u0000\u0000\u0000\u0000\u0000\u0000\u0000\u0000\u0000\u0000\u0000\u0000\u0000\u0000\u0000\u0000\u0000\u0000\u0000\u0000\u0000\u0000\u0000\u0000\u0000\u0000\u0000\u0000\u0000\u0000\u0000\u0000\u0000\u0000\u0000\u0000\u0000\u0000\u0000\u0000\u0000\u0000\u0000\u0000\u0000\u0000\u0000EventId     object\n",
            "Type                                                                                                                                                                                                                                                                                                                                                                                                                                                                                                                                        object\n",
            "Severity                                                                                                                                                                                                                                                                                                                                                                                                                                                                                                                                     int64\n",
            "TMC                                                                                                                                                                                                                                                                                                                                                                                                                                                                                                                                          int64\n",
            "StartTime(UTC)                                                                                                                                                                                                                                                                                                                                                                                                                                                                                                                              object\n",
            "EndTime(UTC)                                                                                                                                                                                                                                                                                                                                                                                                                                                                                                                                object\n",
            "TimeZone                                                                                                                                                                                                                                                                                                                                                                                                                                                                                                                                    object\n",
            "LocationLat                                                                                                                                                                                                                                                                                                                                                                                                                                                                                                                                float64\n",
            "LocationLng                                                                                                                                                                                                                                                                                                                                                                                                                                                                                                                                float64\n",
            "Distance(mi)                                                                                                                                                                                                                                                                                                                                                                                                                                                                                                                               float64\n",
            "AirportCode                                                                                                                                                                                                                                                                                                                                                                                                                                                                                                                                 object\n",
            "Street                                                                                                                                                                                                                                                                                                                                                                                                                                                                                                                                      object\n",
            "Side                                                                                                                                                                                                                                                                                                                                                                                                                                                                                                                                        object\n",
            "City                                                                                                                                                                                                                                                                                                                                                                                                                                                                                                                                        object\n",
            "County                                                                                                                                                                                                                                                                                                                                                                                                                                                                                                                                      object\n",
            "State                                                                                                                                                                                                                                                                                                                                                                                                                                                                                                                                       object\n",
            "ZipCode                                                                                                                                                                                                                                                                                                                                                                                                                                                                                                                                      int64\n",
            "dtype: object\n",
            " total memory: 5.70  Gb\n"
          ]
        }
      ]
    },
    {
      "cell_type": "code",
      "source": [
        "\n",
        "#az onjaii ke kolan ya az rast khorde bood ya az chap man omadam bejaye chap 1 va bejaye rast 0 gozashtam\n",
        "\n",
        "mapping = {\"R\": \"0\", \"L\": \"1\"}\n",
        "df[\"Side\"] = ( df[\"Side\"].astype(\"str\").replace(mapping).fillna(\"-1\").astype(\"int8\"))\n",
        "\n",
        "#in do soton ro barasi kardam ba sampling va didam ke dade hashon be ghadri bozorg nistan ke niaz be uint64 bashe\n",
        "df[\"Severity\"]=df[\"Severity\"].astype(np.uint8)\n",
        "df[\"TMC\"]=df[\"TMC\"].astype(np.uint16)\n",
        "\n",
        "\n"
      ],
      "metadata": {
        "id": "S6N5Jzsd_x9T"
      },
      "execution_count": 94,
      "outputs": []
    },
    {
      "cell_type": "code",
      "source": [
        "#ba in dastor dtyoe har soton moshakhas shode\n",
        "for column in df.columns:\n",
        "    print(f\"{column}: {df[column].dtype}\")"
      ],
      "metadata": {
        "colab": {
          "base_uri": "https://localhost:8080/"
        },
        "id": "E7ebdEl9Ur0M",
        "outputId": "ff160c35-09cb-4154-d177-c5a4797b802f"
      },
      "execution_count": 95,
      "outputs": [
        {
          "output_type": "stream",
          "name": "stdout",
          "text": [
            "TrafficEvents_Aug16_Dec20_Publish.csv\u0000\u0000\u0000\u0000\u0000\u0000\u0000\u0000\u0000\u0000\u0000\u0000\u0000\u0000\u0000\u0000\u0000\u0000\u0000\u0000\u0000\u0000\u0000\u0000\u0000\u0000\u0000\u0000\u0000\u0000\u0000\u0000\u0000\u0000\u0000\u0000\u0000\u0000\u0000\u0000\u0000\u0000\u0000\u0000\u0000\u0000\u0000\u0000\u0000\u0000\u0000\u0000\u0000\u0000\u0000\u0000\u0000\u0000\u0000\u0000\u0000\u0000\u00000000644\u00000056720\u00000007456\u000075560340504\u000014020065145\u0000016644\u0000 0\u0000\u0000\u0000\u0000\u0000\u0000\u0000\u0000\u0000\u0000\u0000\u0000\u0000\u0000\u0000\u0000\u0000\u0000\u0000\u0000\u0000\u0000\u0000\u0000\u0000\u0000\u0000\u0000\u0000\u0000\u0000\u0000\u0000\u0000\u0000\u0000\u0000\u0000\u0000\u0000\u0000\u0000\u0000\u0000\u0000\u0000\u0000\u0000\u0000\u0000\u0000\u0000\u0000\u0000\u0000\u0000\u0000\u0000\u0000\u0000\u0000\u0000\u0000\u0000\u0000\u0000\u0000\u0000\u0000\u0000\u0000\u0000\u0000\u0000\u0000\u0000\u0000\u0000\u0000\u0000\u0000\u0000\u0000\u0000\u0000\u0000\u0000\u0000\u0000\u0000\u0000\u0000\u0000\u0000\u0000\u0000\u0000\u0000\u0000\u0000ustar  \u0000osu9965\u0000\u0000\u0000\u0000\u0000\u0000\u0000\u0000\u0000\u0000\u0000\u0000\u0000\u0000\u0000\u0000\u0000\u0000\u0000\u0000\u0000\u0000\u0000\u0000\u0000PAS0536\u0000\u0000\u0000\u0000\u0000\u0000\u0000\u0000\u0000\u0000\u0000\u0000\u0000\u0000\u0000\u0000\u0000\u0000\u0000\u0000\u0000\u0000\u0000\u0000\u0000\u0000\u0000\u0000\u0000\u0000\u0000\u0000\u0000\u0000\u0000\u0000\u0000\u0000\u0000\u0000\u0000\u0000\u0000\u0000\u0000\u0000\u0000\u0000\u0000\u0000\u0000\u0000\u0000\u0000\u0000\u0000\u0000\u0000\u0000\u0000\u0000\u0000\u0000\u0000\u0000\u0000\u0000\u0000\u0000\u0000\u0000\u0000\u0000\u0000\u0000\u0000\u0000\u0000\u0000\u0000\u0000\u0000\u0000\u0000\u0000\u0000\u0000\u0000\u0000\u0000\u0000\u0000\u0000\u0000\u0000\u0000\u0000\u0000\u0000\u0000\u0000\u0000\u0000\u0000\u0000\u0000\u0000\u0000\u0000\u0000\u0000\u0000\u0000\u0000\u0000\u0000\u0000\u0000\u0000\u0000\u0000\u0000\u0000\u0000\u0000\u0000\u0000\u0000\u0000\u0000\u0000\u0000\u0000\u0000\u0000\u0000\u0000\u0000\u0000\u0000\u0000\u0000\u0000\u0000\u0000\u0000\u0000\u0000\u0000\u0000\u0000\u0000\u0000\u0000\u0000\u0000\u0000\u0000\u0000\u0000\u0000\u0000\u0000\u0000\u0000\u0000\u0000\u0000\u0000\u0000\u0000\u0000\u0000\u0000\u0000\u0000\u0000\u0000\u0000\u0000\u0000\u0000\u0000\u0000\u0000\u0000\u0000\u0000\u0000\u0000\u0000\u0000\u0000\u0000\u0000\u0000\u0000\u0000\u0000\u0000\u0000\u0000\u0000\u0000\u0000\u0000\u0000\u0000EventId: object\n",
            "Type: object\n",
            "Severity: uint8\n",
            "TMC: uint16\n",
            "StartTime(UTC): object\n",
            "EndTime(UTC): object\n",
            "TimeZone: object\n",
            "LocationLat: float64\n",
            "LocationLng: float64\n",
            "Distance(mi): float64\n",
            "AirportCode: object\n",
            "Street: object\n",
            "Side: int8\n",
            "City: object\n",
            "County: object\n",
            "State: object\n",
            "ZipCode: int64\n"
          ]
        }
      ]
    }
  ]
}